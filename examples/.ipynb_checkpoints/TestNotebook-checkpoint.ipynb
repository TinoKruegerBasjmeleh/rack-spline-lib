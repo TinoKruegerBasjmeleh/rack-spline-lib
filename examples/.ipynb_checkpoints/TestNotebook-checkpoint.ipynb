{
 "cells": [
  {
   "cell_type": "code",
   "execution_count": 23,
   "id": "9a63f5b7",
   "metadata": {},
   "outputs": [],
   "source": [
    "import os \n",
    "import ipywidgets as widgets"
   ]
  },
  {
   "cell_type": "markdown",
   "id": "b6f2a06a",
   "metadata": {},
   "source": [
    "re-run below cell each time you would like to upload a new executable"
   ]
  },
  {
   "cell_type": "code",
   "execution_count": 36,
   "id": "711c08df",
   "metadata": {},
   "outputs": [
    {
     "data": {
      "application/vnd.jupyter.widget-view+json": {
       "model_id": "2ae27aa091d04baabb37da04ff412e56",
       "version_major": 2,
       "version_minor": 0
      },
      "text/plain": [
       "FileUpload(value={}, description='Upload')"
      ]
     },
     "metadata": {},
     "output_type": "display_data"
    }
   ],
   "source": [
    "exec_uploader = widgets.FileUpload()  \n",
    "display(exec_uploader)  "
   ]
  },
  {
   "cell_type": "code",
   "execution_count": 37,
   "id": "c32f9be3",
   "metadata": {},
   "outputs": [
    {
     "name": "stdout",
     "output_type": "stream",
     "text": [
      "Create an S shaped spline\n"
     ]
    }
   ],
   "source": [
    "if exec_uploader.value:  \n",
    "    for filename, filedata in exec_uploader.value.items():  \n",
    "        os.system('../build/examples/{}'.format(filename))  \n",
    "else: print(\"Please upload executable and run again\")"
   ]
  },
  {
   "cell_type": "code",
   "execution_count": 38,
   "id": "a0f0dffc",
   "metadata": {},
   "outputs": [],
   "source": [
    "import numpy as np\n",
    "import matplotlib.pyplot as plt"
   ]
  },
  {
   "cell_type": "markdown",
   "id": "016d9c45",
   "metadata": {},
   "source": [
    "re-run below cell each time you would like to upload a new txt file"
   ]
  },
  {
   "cell_type": "code",
   "execution_count": 40,
   "id": "9a612500",
   "metadata": {},
   "outputs": [
    {
     "data": {
      "application/vnd.jupyter.widget-view+json": {
       "model_id": "305f8d037c89478cadd86b3b3f4f18fd",
       "version_major": 2,
       "version_minor": 0
      },
      "text/plain": [
       "FileUpload(value={}, accept='.txt', description='Upload')"
      ]
     },
     "metadata": {},
     "output_type": "display_data"
    }
   ],
   "source": [
    "txt_uploader = widgets.FileUpload(accept='.txt')\n",
    "display(txt_uploader)"
   ]
  },
  {
   "cell_type": "markdown",
   "id": "a360541c",
   "metadata": {},
   "source": [
    "txt files are generated inside: /home/developer/src/KION/rack-spline-lib/examples/curves"
   ]
  },
  {
   "cell_type": "code",
   "execution_count": 41,
   "id": "67dee1b6",
   "metadata": {},
   "outputs": [
    {
     "data": {
      "image/png": "[encoded data removed]",
      "text/plain": [
       "<Figure size 432x288 with 1 Axes>"
      ]
     },
     "metadata": {
      "needs_background": "light"
     },
     "output_type": "display_data"
    }
   ],
   "source": [
    "if txt_uploader.value:  \n",
    "    for filename, filedata in txt_uploader.value.items():  \n",
    "        x0, y0, curve0 = np.loadtxt('curves/{}'.format(filename),unpack=True)\n",
    "        plt.plot(x0, y0)\n",
    "        plt.xlabel('x')\n",
    "        plt.ylabel('y')\n",
    "        plt.title('curves')\n",
    "        plt.show()\n",
    "else: print(\"Please upload .txt file and run again\")"
   ]
  }
 ],
 "metadata": {
  "kernelspec": {
   "display_name": "Python 3 (ipykernel)",
   "language": "python",
   "name": "python3"
  },
  "language_info": {
   "codemirror_mode": {
    "name": "ipython",
    "version": 3
   },
   "file_extension": ".py",
   "mimetype": "text/x-python",
   "name": "python",
   "nbconvert_exporter": "python",
   "pygments_lexer": "ipython3",
   "version": "3.9.7"
  }
 },
 "nbformat": 4,
 "nbformat_minor": 5
}
