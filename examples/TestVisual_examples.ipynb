{
 "cells": [
  {
   "cell_type": "code",
   "execution_count": 4,
   "id": "574cf3dc",
   "metadata": {},
   "outputs": [],
   "source": [
    "import os \n",
    "import ipywidgets as widgets"
   ]
  },
  {
   "cell_type": "markdown",
   "id": "e829008d",
   "metadata": {},
   "source": [
    "## execute simple splines example"
   ]
  },
  {
   "cell_type": "code",
   "execution_count": 5,
   "id": "1c9b97a8",
   "metadata": {},
   "outputs": [],
   "source": [
    "path_sp = './create_splines'\n",
    "  \n",
    "isFile = os.path.isfile(path_sp) \n",
    "if(isFile):\n",
    "    os.system(path_sp)"
   ]
  },
  {
   "cell_type": "markdown",
   "id": "4eba3ffc",
   "metadata": {},
   "source": [
    "## execute create_s_spline example"
   ]
  },
  {
   "cell_type": "markdown",
   "id": "1b7edc38",
   "metadata": {},
   "source": [
    "path_s = './create_s_spline'\n",
    "  \n",
    "isFile = os.path.isfile(path_s) \n",
    "if(isFile):\n",
    "    os.system(path_s)"
   ]
  },
  {
   "cell_type": "markdown",
   "id": "e3094e82",
   "metadata": {},
   "source": [
    "## execute interpolation splines example"
   ]
  },
  {
   "cell_type": "code",
   "execution_count": null,
   "id": "ea13b8f3",
   "metadata": {},
   "outputs": [],
   "source": [
    "path_is = './create_interpolation'\n",
    "  \n",
    "isFile = os.path.isfile(path_is) \n",
    "if(isFile):\n",
    "    os.system(path_is)"
   ]
  },
  {
   "cell_type": "markdown",
   "id": "0b05d88a",
   "metadata": {},
   "source": [
    "## execute offset example"
   ]
  },
  {
   "cell_type": "code",
   "execution_count": null,
   "id": "322b3646",
   "metadata": {},
   "outputs": [],
   "source": [
    "path_os = './create_offset'\n",
    "  \n",
    "isFile = os.path.isfile(path_os) \n",
    "if(isFile):\n",
    "    os.system(path_os)"
   ]
  },
  {
   "cell_type": "markdown",
   "id": "ab60ce3c",
   "metadata": {},
   "source": [
    "## execute blended example"
   ]
  },
  {
   "cell_type": "code",
   "execution_count": null,
   "id": "d0c031c1",
   "metadata": {},
   "outputs": [],
   "source": [
    "path_bs = './create_blended'\n",
    "  \n",
    "isFile = os.path.isfile(path_bs) \n",
    "if(isFile):\n",
    "    os.system(path_bs)"
   ]
  },
  {
   "cell_type": "code",
   "execution_count": null,
   "id": "2f22e0b8",
   "metadata": {},
   "outputs": [],
   "source": [
    "import numpy as np\n",
    "import matplotlib.pyplot as plt"
   ]
  },
  {
   "cell_type": "markdown",
   "id": "bbea6fa7",
   "metadata": {},
   "source": [
    "## visualize simple spline"
   ]
  },
  {
   "cell_type": "code",
   "execution_count": null,
   "id": "d4f3e3c7",
   "metadata": {},
   "outputs": [],
   "source": [
    "path_f_sp = './curve_points.txt'\n",
    "  \n",
    "isFile = os.path.isfile(path_f_sp) \n",
    "if(isFile):\n",
    "    x, y, curve = np.loadtxt(path_f_sp,unpack=True)\n",
    "    plt.plot(x, y, 'm')\n",
    "    plt.xlabel('x')\n",
    "    plt.ylabel('y')\n",
    "    plt.title('simple curve')\n",
    "    plt.show()"
   ]
  },
  {
   "cell_type": "markdown",
   "id": "7278faed",
   "metadata": {},
   "source": [
    "## visualize S-shaped spline"
   ]
  },
  {
   "cell_type": "code",
   "execution_count": null,
   "id": "4ef076f0",
   "metadata": {},
   "outputs": [],
   "source": [
    "path_f_s = './s_curve_points.txt'\n",
    "  \n",
    "isFile = os.path.isfile(path_f_s) \n",
    "if(isFile):\n",
    "    x, y, curve = np.loadtxt(path_f_s,unpack=True)\n",
    "    plt.plot(x, y, 'y')\n",
    "    plt.xlabel('x')\n",
    "    plt.ylabel('y')\n",
    "    plt.title('S-shaped curve')\n",
    "    plt.show()"
   ]
  },
  {
   "cell_type": "markdown",
   "id": "972bfc2e",
   "metadata": {},
   "source": [
    "## visualize interpolation spline"
   ]
  },
  {
   "cell_type": "code",
   "execution_count": null,
   "id": "18f7c304",
   "metadata": {},
   "outputs": [],
   "source": [
    "path_f_is = './intercurve_points.txt'\n",
    "  \n",
    "isFile = os.path.isfile(path_f_is) \n",
    "if(isFile):\n",
    "    x, y, curve = np.loadtxt(path_f_is,unpack=True)\n",
    "    plt.plot(x, y, 'r')\n",
    "    plt.xlabel('x')\n",
    "    plt.ylabel('y')\n",
    "    plt.title('interpolation curve')\n",
    "    plt.show()"
   ]
  },
  {
   "cell_type": "markdown",
   "id": "f9086046",
   "metadata": {},
   "source": [
    "## visualize offset spline"
   ]
  },
  {
   "cell_type": "code",
   "execution_count": null,
   "id": "6c43cbb6",
   "metadata": {},
   "outputs": [],
   "source": [
    "path_f_os = './offcurve_points.txt'\n",
    "  \n",
    "isFile = os.path.isfile(path_f_os) \n",
    "if(isFile):\n",
    "    x, y, curve = np.loadtxt(path_f_os,unpack=True)\n",
    "    plt.plot(x, y, 'b')\n",
    "    plt.xlabel('x')\n",
    "    plt.ylabel('y')\n",
    "    plt.title('offset curve')\n",
    "    plt.show()"
   ]
  },
  {
   "cell_type": "markdown",
   "id": "7c9f7b5b",
   "metadata": {},
   "source": [
    "## visualize blended spline"
   ]
  },
  {
   "cell_type": "code",
   "execution_count": null,
   "id": "058c85ff",
   "metadata": {},
   "outputs": [],
   "source": [
    "path_f_bs = './blendedcurve_points.txt'\n",
    "  \n",
    "isFile = os.path.isfile(path_f_bs) \n",
    "if(isFile):\n",
    "    x, y, curve = np.loadtxt(path_f_bs,unpack=True)\n",
    "    plt.plot(x, y, 'g')\n",
    "    plt.xlabel('x')\n",
    "    plt.ylabel('y')\n",
    "    plt.title('blended curve')\n",
    "    plt.show()"
   ]
  }
 ],
 "metadata": {
  "kernelspec": {
   "display_name": "Python 3 (ipykernel)",
   "language": "python",
   "name": "python3"
  },
  "language_info": {
   "codemirror_mode": {
    "name": "ipython",
    "version": 3
   },
   "file_extension": ".py",
   "mimetype": "text/x-python",
   "name": "python",
   "nbconvert_exporter": "python",
   "pygments_lexer": "ipython3",
   "version": "3.9.7"
  }
 },
 "nbformat": 4,
 "nbformat_minor": 5
}
